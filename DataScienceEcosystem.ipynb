{
 "cells": [
  {
   "cell_type": "markdown",
   "id": "40a89387",
   "metadata": {},
   "source": [
    "# Data Science Tools and Ecosystem"
   ]
  },
  {
   "cell_type": "markdown",
   "id": "71abd79b",
   "metadata": {},
   "source": [
    "Introduction\n",
    "\n",
    "In this notebook, Data Science Tools and Ecosystem are summarized."
   ]
  },
  {
   "attachments": {},
   "cell_type": "markdown",
   "id": "fcb5fb21",
   "metadata": {},
   "source": [
    "**Objectives:**\n",
    "\n",
    "+ You should select a language to learn depending on your needs, \n",
    "  the problems you are trying to solve, and who you are solving them for. \n",
    "+ The popular languages are Python, R, SQL, Scala, Java, C++, and Julia. \n",
    "+ JavaScript, PHP, Go, Ruby, and Visual Basic all have their own unique use   cases as well. \n",
    "+ The problems you need to solve can be related to your company, \n",
    "  role, and age of the existing application."
   ]
  },
  {
   "attachments": {},
   "cell_type": "markdown",
   "id": "c58fe3a4",
   "metadata": {},
   "source": [
    "Some of the popular languages that Data Scientists use are:\n",
    "1. Python\n",
    "2. R \n",
    "3. SQL"
   ]
  },
  {
   "cell_type": "markdown",
   "id": "b9234525",
   "metadata": {},
   "source": [
    "Some of the commonly used libraries used by Data Scientists include:\n",
    "\n",
    "    1. Pandas\n",
    "    2. Numpy\n",
    "    3. Matplotlib\n",
    "    4. Seaborn\n",
    "    5. Scikit-Learn\n",
    "    6. Keras\n",
    "    7. TensorFlow\n",
    "    8. Pytorch\n"
   ]
  },
  {
   "cell_type": "markdown",
   "id": "1ca4b0f0",
   "metadata": {},
   "source": [
    "|Data Science Tools|\n",
    "|------------------|\n",
    "|Jupyter|\n",
    "|Apache Zeppelin|\n",
    "|R Studio|\n",
    " "
   ]
  },
  {
   "cell_type": "markdown",
   "id": "f943ebbf",
   "metadata": {},
   "source": [
    "### Below are a few examples of evaluating arithmetic expressions in Python"
   ]
  },
  {
   "cell_type": "code",
   "execution_count": 11,
   "id": "1c51e4d8",
   "metadata": {},
   "outputs": [
    {
     "name": "stdout",
     "output_type": "stream",
     "text": [
      "17\n"
     ]
    }
   ],
   "source": [
    "# This a simple arithmetic expression to mutiply then add integers\n",
    "print((3*4)+5)"
   ]
  },
  {
   "cell_type": "code",
   "execution_count": 12,
   "id": "764cb554",
   "metadata": {},
   "outputs": [
    {
     "name": "stdout",
     "output_type": "stream",
     "text": [
      "3.3333333333333335\n"
     ]
    }
   ],
   "source": [
    "# This will convert 200 minutes to hours by diving by 60\n",
    "print(200/60)"
   ]
  },
  {
   "cell_type": "markdown",
   "id": "61b207d0",
   "metadata": {},
   "source": [
    "## Author\n",
    "Jefferson Macasarte"
   ]
  },
  {
   "cell_type": "code",
   "execution_count": null,
   "id": "3c9a93e3",
   "metadata": {},
   "outputs": [],
   "source": []
  }
 ],
 "metadata": {
  "kernelspec": {
   "display_name": "Python 3 (ipykernel)",
   "language": "python",
   "name": "python3"
  },
  "language_info": {
   "codemirror_mode": {
    "name": "ipython",
    "version": 3
   },
   "file_extension": ".py",
   "mimetype": "text/x-python",
   "name": "python",
   "nbconvert_exporter": "python",
   "pygments_lexer": "ipython3",
   "version": "3.10.9"
  }
 },
 "nbformat": 4,
 "nbformat_minor": 5
}
